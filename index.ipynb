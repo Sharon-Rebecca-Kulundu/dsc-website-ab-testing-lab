{
 "cells": [
  {
   "cell_type": "markdown",
   "metadata": {},
   "source": [
    "# Website A/B Testing - Lab\n",
    "\n",
    "## Introduction\n",
    "\n",
    "In this lab, you'll get another chance to practice your skills at conducting a full A/B test analysis. It will also be a chance to practice your data exploration and processing skills! The scenario you'll be investigating is data collected from the homepage of a music app page for audacity.\n",
    "\n",
    "## Objectives\n",
    "\n",
    "You will be able to:\n",
    "* Analyze the data from a website A/B test to draw relevant conclusions\n",
    "* Explore and analyze web action data"
   ]
  },
  {
   "cell_type": "markdown",
   "metadata": {},
   "source": [
    "## Exploratory Analysis\n",
    "\n",
    "Start by loading in the dataset stored in the file 'homepage_actions.csv'. Then conduct an exploratory analysis to get familiar with the data."
   ]
  },
  {
   "cell_type": "markdown",
   "metadata": {},
   "source": [
    "> Hints:\n",
    "    * Start investigating the id column:\n",
    "        * How many viewers also clicked?\n",
    "        * Are there any anomalies with the data; did anyone click who didn't view?\n",
    "        * Is there any overlap between the control and experiment groups? \n",
    "            * If so, how do you plan to account for this in your experimental design?"
   ]
  },
  {
   "cell_type": "code",
   "execution_count": 1,
   "metadata": {},
   "outputs": [
    {
     "data": {
      "text/html": [
       "<div>\n",
       "<style scoped>\n",
       "    .dataframe tbody tr th:only-of-type {\n",
       "        vertical-align: middle;\n",
       "    }\n",
       "\n",
       "    .dataframe tbody tr th {\n",
       "        vertical-align: top;\n",
       "    }\n",
       "\n",
       "    .dataframe thead th {\n",
       "        text-align: right;\n",
       "    }\n",
       "</style>\n",
       "<table border=\"1\" class=\"dataframe\">\n",
       "  <thead>\n",
       "    <tr style=\"text-align: right;\">\n",
       "      <th></th>\n",
       "      <th>timestamp</th>\n",
       "      <th>id</th>\n",
       "      <th>group</th>\n",
       "      <th>action</th>\n",
       "    </tr>\n",
       "  </thead>\n",
       "  <tbody>\n",
       "    <tr>\n",
       "      <th>0</th>\n",
       "      <td>2016-09-24 17:42:27.839496</td>\n",
       "      <td>804196</td>\n",
       "      <td>experiment</td>\n",
       "      <td>view</td>\n",
       "    </tr>\n",
       "    <tr>\n",
       "      <th>1</th>\n",
       "      <td>2016-09-24 19:19:03.542569</td>\n",
       "      <td>434745</td>\n",
       "      <td>experiment</td>\n",
       "      <td>view</td>\n",
       "    </tr>\n",
       "    <tr>\n",
       "      <th>2</th>\n",
       "      <td>2016-09-24 19:36:00.944135</td>\n",
       "      <td>507599</td>\n",
       "      <td>experiment</td>\n",
       "      <td>view</td>\n",
       "    </tr>\n",
       "    <tr>\n",
       "      <th>3</th>\n",
       "      <td>2016-09-24 19:59:02.646620</td>\n",
       "      <td>671993</td>\n",
       "      <td>control</td>\n",
       "      <td>view</td>\n",
       "    </tr>\n",
       "    <tr>\n",
       "      <th>4</th>\n",
       "      <td>2016-09-24 20:26:14.466886</td>\n",
       "      <td>536734</td>\n",
       "      <td>experiment</td>\n",
       "      <td>view</td>\n",
       "    </tr>\n",
       "    <tr>\n",
       "      <th>...</th>\n",
       "      <td>...</td>\n",
       "      <td>...</td>\n",
       "      <td>...</td>\n",
       "      <td>...</td>\n",
       "    </tr>\n",
       "    <tr>\n",
       "      <th>8183</th>\n",
       "      <td>2017-01-18 09:11:41.984113</td>\n",
       "      <td>192060</td>\n",
       "      <td>experiment</td>\n",
       "      <td>view</td>\n",
       "    </tr>\n",
       "    <tr>\n",
       "      <th>8184</th>\n",
       "      <td>2017-01-18 09:42:12.844575</td>\n",
       "      <td>755912</td>\n",
       "      <td>experiment</td>\n",
       "      <td>view</td>\n",
       "    </tr>\n",
       "    <tr>\n",
       "      <th>8185</th>\n",
       "      <td>2017-01-18 10:01:09.026482</td>\n",
       "      <td>458115</td>\n",
       "      <td>experiment</td>\n",
       "      <td>view</td>\n",
       "    </tr>\n",
       "    <tr>\n",
       "      <th>8186</th>\n",
       "      <td>2017-01-18 10:08:51.588469</td>\n",
       "      <td>505451</td>\n",
       "      <td>control</td>\n",
       "      <td>view</td>\n",
       "    </tr>\n",
       "    <tr>\n",
       "      <th>8187</th>\n",
       "      <td>2017-01-18 10:24:08.629327</td>\n",
       "      <td>461199</td>\n",
       "      <td>control</td>\n",
       "      <td>view</td>\n",
       "    </tr>\n",
       "  </tbody>\n",
       "</table>\n",
       "<p>8188 rows × 4 columns</p>\n",
       "</div>"
      ],
      "text/plain": [
       "                       timestamp      id       group action\n",
       "0     2016-09-24 17:42:27.839496  804196  experiment   view\n",
       "1     2016-09-24 19:19:03.542569  434745  experiment   view\n",
       "2     2016-09-24 19:36:00.944135  507599  experiment   view\n",
       "3     2016-09-24 19:59:02.646620  671993     control   view\n",
       "4     2016-09-24 20:26:14.466886  536734  experiment   view\n",
       "...                          ...     ...         ...    ...\n",
       "8183  2017-01-18 09:11:41.984113  192060  experiment   view\n",
       "8184  2017-01-18 09:42:12.844575  755912  experiment   view\n",
       "8185  2017-01-18 10:01:09.026482  458115  experiment   view\n",
       "8186  2017-01-18 10:08:51.588469  505451     control   view\n",
       "8187  2017-01-18 10:24:08.629327  461199     control   view\n",
       "\n",
       "[8188 rows x 4 columns]"
      ]
     },
     "execution_count": 1,
     "metadata": {},
     "output_type": "execute_result"
    }
   ],
   "source": [
    "#Your code here\n",
    "import pandas as pd\n",
    "df = pd.read_csv('homepage_actions.csv')\n",
    "df"
   ]
  },
  {
   "cell_type": "code",
   "execution_count": 2,
   "metadata": {},
   "outputs": [
    {
     "data": {
      "text/plain": [
       "array(['experiment', 'control'], dtype=object)"
      ]
     },
     "execution_count": 2,
     "metadata": {},
     "output_type": "execute_result"
    }
   ],
   "source": [
    "df.group.unique()"
   ]
  },
  {
   "cell_type": "code",
   "execution_count": 3,
   "metadata": {},
   "outputs": [
    {
     "data": {
      "text/plain": [
       "array(['view', 'click'], dtype=object)"
      ]
     },
     "execution_count": 3,
     "metadata": {},
     "output_type": "execute_result"
    }
   ],
   "source": [
    "df.action.unique()"
   ]
  },
  {
   "cell_type": "code",
   "execution_count": 4,
   "metadata": {},
   "outputs": [
    {
     "name": "stdout",
     "output_type": "stream",
     "text": [
      "<class 'pandas.core.frame.DataFrame'>\n",
      "RangeIndex: 8188 entries, 0 to 8187\n",
      "Data columns (total 4 columns):\n",
      " #   Column     Non-Null Count  Dtype         \n",
      "---  ------     --------------  -----         \n",
      " 0   timestamp  8188 non-null   datetime64[ns]\n",
      " 1   id         8188 non-null   int64         \n",
      " 2   group      8188 non-null   object        \n",
      " 3   action     8188 non-null   object        \n",
      "dtypes: datetime64[ns](1), int64(1), object(2)\n",
      "memory usage: 256.0+ KB\n"
     ]
    }
   ],
   "source": [
    "df.timestamp = pd.to_datetime(df.timestamp)\n",
    "df.info()"
   ]
  },
  {
   "cell_type": "code",
   "execution_count": 5,
   "metadata": {},
   "outputs": [
    {
     "data": {
      "text/plain": [
       "Timestamp('2017-01-18 10:24:08.629327')"
      ]
     },
     "execution_count": 5,
     "metadata": {},
     "output_type": "execute_result"
    }
   ],
   "source": [
    "df.timestamp.max()"
   ]
  },
  {
   "cell_type": "code",
   "execution_count": 6,
   "metadata": {},
   "outputs": [
    {
     "data": {
      "text/plain": [
       "Timestamp('2016-09-24 17:42:27.839496')"
      ]
     },
     "execution_count": 6,
     "metadata": {},
     "output_type": "execute_result"
    }
   ],
   "source": [
    "df.timestamp.min()"
   ]
  },
  {
   "cell_type": "code",
   "execution_count": 7,
   "metadata": {},
   "outputs": [],
   "source": [
    "experiment_df = df[df.group == 'experiment']\n",
    "control_df = df[df.group == 'control']"
   ]
  },
  {
   "cell_type": "code",
   "execution_count": 8,
   "metadata": {},
   "outputs": [
    {
     "data": {
      "text/plain": [
       "2996"
      ]
     },
     "execution_count": 8,
     "metadata": {},
     "output_type": "execute_result"
    }
   ],
   "source": [
    "len(experiment_df.id.unique())"
   ]
  },
  {
   "cell_type": "code",
   "execution_count": 9,
   "metadata": {},
   "outputs": [
    {
     "data": {
      "text/plain": [
       "3332"
      ]
     },
     "execution_count": 9,
     "metadata": {},
     "output_type": "execute_result"
    }
   ],
   "source": [
    "len(control_df.id.unique())"
   ]
  },
  {
   "cell_type": "code",
   "execution_count": 10,
   "metadata": {},
   "outputs": [
    {
     "data": {
      "text/html": [
       "<div>\n",
       "<style scoped>\n",
       "    .dataframe tbody tr th:only-of-type {\n",
       "        vertical-align: middle;\n",
       "    }\n",
       "\n",
       "    .dataframe tbody tr th {\n",
       "        vertical-align: top;\n",
       "    }\n",
       "\n",
       "    .dataframe thead th {\n",
       "        text-align: right;\n",
       "    }\n",
       "</style>\n",
       "<table border=\"1\" class=\"dataframe\">\n",
       "  <thead>\n",
       "    <tr style=\"text-align: right;\">\n",
       "      <th></th>\n",
       "      <th>timestamp</th>\n",
       "      <th>id</th>\n",
       "      <th>group</th>\n",
       "      <th>action</th>\n",
       "    </tr>\n",
       "  </thead>\n",
       "  <tbody>\n",
       "    <tr>\n",
       "      <th>0</th>\n",
       "      <td>2016-09-24 17:42:27.839496</td>\n",
       "      <td>804196</td>\n",
       "      <td>experiment</td>\n",
       "      <td>view</td>\n",
       "    </tr>\n",
       "    <tr>\n",
       "      <th>1</th>\n",
       "      <td>2016-09-24 19:19:03.542569</td>\n",
       "      <td>434745</td>\n",
       "      <td>experiment</td>\n",
       "      <td>view</td>\n",
       "    </tr>\n",
       "    <tr>\n",
       "      <th>2</th>\n",
       "      <td>2016-09-24 19:36:00.944135</td>\n",
       "      <td>507599</td>\n",
       "      <td>experiment</td>\n",
       "      <td>view</td>\n",
       "    </tr>\n",
       "    <tr>\n",
       "      <th>4</th>\n",
       "      <td>2016-09-24 20:26:14.466886</td>\n",
       "      <td>536734</td>\n",
       "      <td>experiment</td>\n",
       "      <td>view</td>\n",
       "    </tr>\n",
       "    <tr>\n",
       "      <th>5</th>\n",
       "      <td>2016-09-24 20:32:25.712659</td>\n",
       "      <td>681598</td>\n",
       "      <td>experiment</td>\n",
       "      <td>view</td>\n",
       "    </tr>\n",
       "    <tr>\n",
       "      <th>...</th>\n",
       "      <td>...</td>\n",
       "      <td>...</td>\n",
       "      <td>...</td>\n",
       "      <td>...</td>\n",
       "    </tr>\n",
       "    <tr>\n",
       "      <th>8179</th>\n",
       "      <td>2017-01-18 08:53:50.910310</td>\n",
       "      <td>615849</td>\n",
       "      <td>experiment</td>\n",
       "      <td>view</td>\n",
       "    </tr>\n",
       "    <tr>\n",
       "      <th>8180</th>\n",
       "      <td>2017-01-18 08:54:56.879682</td>\n",
       "      <td>615849</td>\n",
       "      <td>experiment</td>\n",
       "      <td>click</td>\n",
       "    </tr>\n",
       "    <tr>\n",
       "      <th>8183</th>\n",
       "      <td>2017-01-18 09:11:41.984113</td>\n",
       "      <td>192060</td>\n",
       "      <td>experiment</td>\n",
       "      <td>view</td>\n",
       "    </tr>\n",
       "    <tr>\n",
       "      <th>8184</th>\n",
       "      <td>2017-01-18 09:42:12.844575</td>\n",
       "      <td>755912</td>\n",
       "      <td>experiment</td>\n",
       "      <td>view</td>\n",
       "    </tr>\n",
       "    <tr>\n",
       "      <th>8185</th>\n",
       "      <td>2017-01-18 10:01:09.026482</td>\n",
       "      <td>458115</td>\n",
       "      <td>experiment</td>\n",
       "      <td>view</td>\n",
       "    </tr>\n",
       "  </tbody>\n",
       "</table>\n",
       "<p>3924 rows × 4 columns</p>\n",
       "</div>"
      ],
      "text/plain": [
       "                      timestamp      id       group action\n",
       "0    2016-09-24 17:42:27.839496  804196  experiment   view\n",
       "1    2016-09-24 19:19:03.542569  434745  experiment   view\n",
       "2    2016-09-24 19:36:00.944135  507599  experiment   view\n",
       "4    2016-09-24 20:26:14.466886  536734  experiment   view\n",
       "5    2016-09-24 20:32:25.712659  681598  experiment   view\n",
       "...                         ...     ...         ...    ...\n",
       "8179 2017-01-18 08:53:50.910310  615849  experiment   view\n",
       "8180 2017-01-18 08:54:56.879682  615849  experiment  click\n",
       "8183 2017-01-18 09:11:41.984113  192060  experiment   view\n",
       "8184 2017-01-18 09:42:12.844575  755912  experiment   view\n",
       "8185 2017-01-18 10:01:09.026482  458115  experiment   view\n",
       "\n",
       "[3924 rows x 4 columns]"
      ]
     },
     "execution_count": 10,
     "metadata": {},
     "output_type": "execute_result"
    }
   ],
   "source": [
    "experiment_df"
   ]
  },
  {
   "cell_type": "code",
   "execution_count": 11,
   "metadata": {},
   "outputs": [
    {
     "data": {
      "text/html": [
       "<div>\n",
       "<style scoped>\n",
       "    .dataframe tbody tr th:only-of-type {\n",
       "        vertical-align: middle;\n",
       "    }\n",
       "\n",
       "    .dataframe tbody tr th {\n",
       "        vertical-align: top;\n",
       "    }\n",
       "\n",
       "    .dataframe thead th {\n",
       "        text-align: right;\n",
       "    }\n",
       "</style>\n",
       "<table border=\"1\" class=\"dataframe\">\n",
       "  <thead>\n",
       "    <tr style=\"text-align: right;\">\n",
       "      <th></th>\n",
       "      <th>timestamp</th>\n",
       "      <th>id</th>\n",
       "      <th>group</th>\n",
       "      <th>action</th>\n",
       "    </tr>\n",
       "  </thead>\n",
       "  <tbody>\n",
       "    <tr>\n",
       "      <th>3</th>\n",
       "      <td>2016-09-24 19:59:02.646620</td>\n",
       "      <td>671993</td>\n",
       "      <td>control</td>\n",
       "      <td>view</td>\n",
       "    </tr>\n",
       "    <tr>\n",
       "      <th>9</th>\n",
       "      <td>2016-09-24 21:00:12.278374</td>\n",
       "      <td>560027</td>\n",
       "      <td>control</td>\n",
       "      <td>view</td>\n",
       "    </tr>\n",
       "    <tr>\n",
       "      <th>23</th>\n",
       "      <td>2016-09-25 00:25:14.141290</td>\n",
       "      <td>281985</td>\n",
       "      <td>control</td>\n",
       "      <td>view</td>\n",
       "    </tr>\n",
       "    <tr>\n",
       "      <th>24</th>\n",
       "      <td>2016-09-25 01:14:48.603202</td>\n",
       "      <td>407864</td>\n",
       "      <td>control</td>\n",
       "      <td>view</td>\n",
       "    </tr>\n",
       "    <tr>\n",
       "      <th>25</th>\n",
       "      <td>2016-09-25 02:16:11.046654</td>\n",
       "      <td>342984</td>\n",
       "      <td>control</td>\n",
       "      <td>view</td>\n",
       "    </tr>\n",
       "    <tr>\n",
       "      <th>...</th>\n",
       "      <td>...</td>\n",
       "      <td>...</td>\n",
       "      <td>...</td>\n",
       "      <td>...</td>\n",
       "    </tr>\n",
       "    <tr>\n",
       "      <th>8178</th>\n",
       "      <td>2017-01-18 08:17:12.675797</td>\n",
       "      <td>616692</td>\n",
       "      <td>control</td>\n",
       "      <td>view</td>\n",
       "    </tr>\n",
       "    <tr>\n",
       "      <th>8181</th>\n",
       "      <td>2017-01-18 09:07:37.661143</td>\n",
       "      <td>795585</td>\n",
       "      <td>control</td>\n",
       "      <td>view</td>\n",
       "    </tr>\n",
       "    <tr>\n",
       "      <th>8182</th>\n",
       "      <td>2017-01-18 09:09:17.363917</td>\n",
       "      <td>795585</td>\n",
       "      <td>control</td>\n",
       "      <td>click</td>\n",
       "    </tr>\n",
       "    <tr>\n",
       "      <th>8186</th>\n",
       "      <td>2017-01-18 10:08:51.588469</td>\n",
       "      <td>505451</td>\n",
       "      <td>control</td>\n",
       "      <td>view</td>\n",
       "    </tr>\n",
       "    <tr>\n",
       "      <th>8187</th>\n",
       "      <td>2017-01-18 10:24:08.629327</td>\n",
       "      <td>461199</td>\n",
       "      <td>control</td>\n",
       "      <td>view</td>\n",
       "    </tr>\n",
       "  </tbody>\n",
       "</table>\n",
       "<p>4264 rows × 4 columns</p>\n",
       "</div>"
      ],
      "text/plain": [
       "                      timestamp      id    group action\n",
       "3    2016-09-24 19:59:02.646620  671993  control   view\n",
       "9    2016-09-24 21:00:12.278374  560027  control   view\n",
       "23   2016-09-25 00:25:14.141290  281985  control   view\n",
       "24   2016-09-25 01:14:48.603202  407864  control   view\n",
       "25   2016-09-25 02:16:11.046654  342984  control   view\n",
       "...                         ...     ...      ...    ...\n",
       "8178 2017-01-18 08:17:12.675797  616692  control   view\n",
       "8181 2017-01-18 09:07:37.661143  795585  control   view\n",
       "8182 2017-01-18 09:09:17.363917  795585  control  click\n",
       "8186 2017-01-18 10:08:51.588469  505451  control   view\n",
       "8187 2017-01-18 10:24:08.629327  461199  control   view\n",
       "\n",
       "[4264 rows x 4 columns]"
      ]
     },
     "execution_count": 11,
     "metadata": {},
     "output_type": "execute_result"
    }
   ],
   "source": [
    "control_df"
   ]
  },
  {
   "cell_type": "code",
   "execution_count": 12,
   "metadata": {},
   "outputs": [
    {
     "data": {
      "text/html": [
       "<div>\n",
       "<style scoped>\n",
       "    .dataframe tbody tr th:only-of-type {\n",
       "        vertical-align: middle;\n",
       "    }\n",
       "\n",
       "    .dataframe tbody tr th {\n",
       "        vertical-align: top;\n",
       "    }\n",
       "\n",
       "    .dataframe thead th {\n",
       "        text-align: right;\n",
       "    }\n",
       "</style>\n",
       "<table border=\"1\" class=\"dataframe\">\n",
       "  <thead>\n",
       "    <tr style=\"text-align: right;\">\n",
       "      <th></th>\n",
       "      <th>timestamp_click</th>\n",
       "      <th>id</th>\n",
       "      <th>group_click</th>\n",
       "      <th>action_click</th>\n",
       "      <th>timestamp_view</th>\n",
       "      <th>group_view</th>\n",
       "      <th>action_view</th>\n",
       "    </tr>\n",
       "  </thead>\n",
       "  <tbody>\n",
       "  </tbody>\n",
       "</table>\n",
       "</div>"
      ],
      "text/plain": [
       "Empty DataFrame\n",
       "Columns: [timestamp_click, id, group_click, action_click, timestamp_view, group_view, action_view]\n",
       "Index: []"
      ]
     },
     "execution_count": 12,
     "metadata": {},
     "output_type": "execute_result"
    }
   ],
   "source": [
    "#Is there any overlap between the control and experiment groups\n",
    "experiment_df.merge(control_df, how='inner', suffixes=('_click', '_view'), on='id')"
   ]
  },
  {
   "cell_type": "code",
   "execution_count": 13,
   "metadata": {},
   "outputs": [],
   "source": [
    "# check to see if anyone clicked but didn't view\n",
    "experiment_click_df = experiment_df[experiment_df.action == 'click']\n",
    "experiment_view_df = experiment_df[experiment_df.action == 'view']\n",
    "control_click_df = control_df[control_df.action == 'click']\n",
    "control_view_df = control_df[control_df.action == 'view']"
   ]
  },
  {
   "cell_type": "code",
   "execution_count": 14,
   "metadata": {},
   "outputs": [
    {
     "data": {
      "text/html": [
       "<div>\n",
       "<style scoped>\n",
       "    .dataframe tbody tr th:only-of-type {\n",
       "        vertical-align: middle;\n",
       "    }\n",
       "\n",
       "    .dataframe tbody tr th {\n",
       "        vertical-align: top;\n",
       "    }\n",
       "\n",
       "    .dataframe thead th {\n",
       "        text-align: right;\n",
       "    }\n",
       "</style>\n",
       "<table border=\"1\" class=\"dataframe\">\n",
       "  <thead>\n",
       "    <tr style=\"text-align: right;\">\n",
       "      <th></th>\n",
       "      <th>timestamp_click</th>\n",
       "      <th>id</th>\n",
       "      <th>group_click</th>\n",
       "      <th>action_click</th>\n",
       "      <th>timestamp_view</th>\n",
       "      <th>group_view</th>\n",
       "      <th>action_view</th>\n",
       "    </tr>\n",
       "  </thead>\n",
       "  <tbody>\n",
       "    <tr>\n",
       "      <th>0</th>\n",
       "      <td>2016-09-24 20:58:01.948663</td>\n",
       "      <td>349125</td>\n",
       "      <td>experiment</td>\n",
       "      <td>click</td>\n",
       "      <td>2016-09-24 20:57:20.336757</td>\n",
       "      <td>experiment</td>\n",
       "      <td>view</td>\n",
       "    </tr>\n",
       "    <tr>\n",
       "      <th>1</th>\n",
       "      <td>2016-09-24 21:06:27.553057</td>\n",
       "      <td>601714</td>\n",
       "      <td>experiment</td>\n",
       "      <td>click</td>\n",
       "      <td>2016-09-24 21:05:15.348935</td>\n",
       "      <td>experiment</td>\n",
       "      <td>view</td>\n",
       "    </tr>\n",
       "    <tr>\n",
       "      <th>2</th>\n",
       "      <td>2016-09-24 21:30:02.739756</td>\n",
       "      <td>487634</td>\n",
       "      <td>experiment</td>\n",
       "      <td>click</td>\n",
       "      <td>2016-09-24 21:29:19.766467</td>\n",
       "      <td>experiment</td>\n",
       "      <td>view</td>\n",
       "    </tr>\n",
       "    <tr>\n",
       "      <th>3</th>\n",
       "      <td>2016-09-24 23:01:12.108316</td>\n",
       "      <td>468601</td>\n",
       "      <td>experiment</td>\n",
       "      <td>click</td>\n",
       "      <td>2016-09-24 23:01:08.713402</td>\n",
       "      <td>experiment</td>\n",
       "      <td>view</td>\n",
       "    </tr>\n",
       "    <tr>\n",
       "      <th>4</th>\n",
       "      <td>2016-09-25 00:01:47.933853</td>\n",
       "      <td>555973</td>\n",
       "      <td>experiment</td>\n",
       "      <td>click</td>\n",
       "      <td>2016-09-25 00:00:47.700734</td>\n",
       "      <td>experiment</td>\n",
       "      <td>view</td>\n",
       "    </tr>\n",
       "    <tr>\n",
       "      <th>...</th>\n",
       "      <td>...</td>\n",
       "      <td>...</td>\n",
       "      <td>...</td>\n",
       "      <td>...</td>\n",
       "      <td>...</td>\n",
       "      <td>...</td>\n",
       "      <td>...</td>\n",
       "    </tr>\n",
       "    <tr>\n",
       "      <th>923</th>\n",
       "      <td>2017-01-17 09:27:37.808307</td>\n",
       "      <td>891635</td>\n",
       "      <td>experiment</td>\n",
       "      <td>click</td>\n",
       "      <td>2017-01-17 09:26:26.463667</td>\n",
       "      <td>experiment</td>\n",
       "      <td>view</td>\n",
       "    </tr>\n",
       "    <tr>\n",
       "      <th>924</th>\n",
       "      <td>2017-01-17 15:09:17.533736</td>\n",
       "      <td>865656</td>\n",
       "      <td>experiment</td>\n",
       "      <td>click</td>\n",
       "      <td>2017-01-17 15:08:41.151181</td>\n",
       "      <td>experiment</td>\n",
       "      <td>view</td>\n",
       "    </tr>\n",
       "    <tr>\n",
       "      <th>925</th>\n",
       "      <td>2017-01-17 20:14:12.483794</td>\n",
       "      <td>413359</td>\n",
       "      <td>experiment</td>\n",
       "      <td>click</td>\n",
       "      <td>2017-01-17 20:14:00.072907</td>\n",
       "      <td>experiment</td>\n",
       "      <td>view</td>\n",
       "    </tr>\n",
       "    <tr>\n",
       "      <th>926</th>\n",
       "      <td>2017-01-18 00:56:24.554729</td>\n",
       "      <td>344770</td>\n",
       "      <td>experiment</td>\n",
       "      <td>click</td>\n",
       "      <td>2017-01-18 00:55:55.026210</td>\n",
       "      <td>experiment</td>\n",
       "      <td>view</td>\n",
       "    </tr>\n",
       "    <tr>\n",
       "      <th>927</th>\n",
       "      <td>2017-01-18 08:54:56.879682</td>\n",
       "      <td>615849</td>\n",
       "      <td>experiment</td>\n",
       "      <td>click</td>\n",
       "      <td>2017-01-18 08:53:50.910310</td>\n",
       "      <td>experiment</td>\n",
       "      <td>view</td>\n",
       "    </tr>\n",
       "  </tbody>\n",
       "</table>\n",
       "<p>928 rows × 7 columns</p>\n",
       "</div>"
      ],
      "text/plain": [
       "               timestamp_click      id group_click action_click  \\\n",
       "0   2016-09-24 20:58:01.948663  349125  experiment        click   \n",
       "1   2016-09-24 21:06:27.553057  601714  experiment        click   \n",
       "2   2016-09-24 21:30:02.739756  487634  experiment        click   \n",
       "3   2016-09-24 23:01:12.108316  468601  experiment        click   \n",
       "4   2016-09-25 00:01:47.933853  555973  experiment        click   \n",
       "..                         ...     ...         ...          ...   \n",
       "923 2017-01-17 09:27:37.808307  891635  experiment        click   \n",
       "924 2017-01-17 15:09:17.533736  865656  experiment        click   \n",
       "925 2017-01-17 20:14:12.483794  413359  experiment        click   \n",
       "926 2017-01-18 00:56:24.554729  344770  experiment        click   \n",
       "927 2017-01-18 08:54:56.879682  615849  experiment        click   \n",
       "\n",
       "                timestamp_view  group_view action_view  \n",
       "0   2016-09-24 20:57:20.336757  experiment        view  \n",
       "1   2016-09-24 21:05:15.348935  experiment        view  \n",
       "2   2016-09-24 21:29:19.766467  experiment        view  \n",
       "3   2016-09-24 23:01:08.713402  experiment        view  \n",
       "4   2016-09-25 00:00:47.700734  experiment        view  \n",
       "..                         ...         ...         ...  \n",
       "923 2017-01-17 09:26:26.463667  experiment        view  \n",
       "924 2017-01-17 15:08:41.151181  experiment        view  \n",
       "925 2017-01-17 20:14:00.072907  experiment        view  \n",
       "926 2017-01-18 00:55:55.026210  experiment        view  \n",
       "927 2017-01-18 08:53:50.910310  experiment        view  \n",
       "\n",
       "[928 rows x 7 columns]"
      ]
     },
     "execution_count": 14,
     "metadata": {},
     "output_type": "execute_result"
    }
   ],
   "source": [
    "experiment_click_df.merge(experiment_view_df, on='id', suffixes=('_click', '_view'), how='left')"
   ]
  },
  {
   "cell_type": "code",
   "execution_count": 15,
   "metadata": {},
   "outputs": [
    {
     "name": "stdout",
     "output_type": "stream",
     "text": [
      "<class 'pandas.core.frame.DataFrame'>\n",
      "Int64Index: 928 entries, 0 to 927\n",
      "Data columns (total 7 columns):\n",
      " #   Column           Non-Null Count  Dtype         \n",
      "---  ------           --------------  -----         \n",
      " 0   timestamp_click  928 non-null    datetime64[ns]\n",
      " 1   id               928 non-null    int64         \n",
      " 2   group_click      928 non-null    object        \n",
      " 3   action_click     928 non-null    object        \n",
      " 4   timestamp_view   928 non-null    datetime64[ns]\n",
      " 5   group_view       928 non-null    object        \n",
      " 6   action_view      928 non-null    object        \n",
      "dtypes: datetime64[ns](2), int64(1), object(4)\n",
      "memory usage: 58.0+ KB\n"
     ]
    }
   ],
   "source": [
    "experiment_click_df.merge(experiment_view_df, on='id', suffixes=('_click', '_view'), how='left').info()"
   ]
  },
  {
   "cell_type": "code",
   "execution_count": 16,
   "metadata": {},
   "outputs": [
    {
     "data": {
      "text/html": [
       "<div>\n",
       "<style scoped>\n",
       "    .dataframe tbody tr th:only-of-type {\n",
       "        vertical-align: middle;\n",
       "    }\n",
       "\n",
       "    .dataframe tbody tr th {\n",
       "        vertical-align: top;\n",
       "    }\n",
       "\n",
       "    .dataframe thead th {\n",
       "        text-align: right;\n",
       "    }\n",
       "</style>\n",
       "<table border=\"1\" class=\"dataframe\">\n",
       "  <thead>\n",
       "    <tr style=\"text-align: right;\">\n",
       "      <th></th>\n",
       "      <th>timestamp_click</th>\n",
       "      <th>id</th>\n",
       "      <th>group_click</th>\n",
       "      <th>action_click</th>\n",
       "      <th>timestamp_view</th>\n",
       "      <th>group_view</th>\n",
       "      <th>action_view</th>\n",
       "    </tr>\n",
       "  </thead>\n",
       "  <tbody>\n",
       "    <tr>\n",
       "      <th>0</th>\n",
       "      <td>2016-09-25 02:53:25.459874</td>\n",
       "      <td>398892</td>\n",
       "      <td>control</td>\n",
       "      <td>click</td>\n",
       "      <td>2016-09-25 02:52:43.844199</td>\n",
       "      <td>control</td>\n",
       "      <td>view</td>\n",
       "    </tr>\n",
       "    <tr>\n",
       "      <th>1</th>\n",
       "      <td>2016-09-25 05:19:15.810727</td>\n",
       "      <td>544571</td>\n",
       "      <td>control</td>\n",
       "      <td>click</td>\n",
       "      <td>2016-09-25 05:18:58.565357</td>\n",
       "      <td>control</td>\n",
       "      <td>view</td>\n",
       "    </tr>\n",
       "    <tr>\n",
       "      <th>2</th>\n",
       "      <td>2016-09-25 08:25:32.821891</td>\n",
       "      <td>194950</td>\n",
       "      <td>control</td>\n",
       "      <td>click</td>\n",
       "      <td>2016-09-25 08:24:31.192802</td>\n",
       "      <td>control</td>\n",
       "      <td>view</td>\n",
       "    </tr>\n",
       "    <tr>\n",
       "      <th>3</th>\n",
       "      <td>2016-09-25 09:45:12.114972</td>\n",
       "      <td>894454</td>\n",
       "      <td>control</td>\n",
       "      <td>click</td>\n",
       "      <td>2016-09-25 09:43:32.734737</td>\n",
       "      <td>control</td>\n",
       "      <td>view</td>\n",
       "    </tr>\n",
       "    <tr>\n",
       "      <th>4</th>\n",
       "      <td>2016-09-25 10:38:53.299877</td>\n",
       "      <td>639852</td>\n",
       "      <td>control</td>\n",
       "      <td>click</td>\n",
       "      <td>2016-09-25 10:37:38.286145</td>\n",
       "      <td>control</td>\n",
       "      <td>view</td>\n",
       "    </tr>\n",
       "    <tr>\n",
       "      <th>...</th>\n",
       "      <td>...</td>\n",
       "      <td>...</td>\n",
       "      <td>...</td>\n",
       "      <td>...</td>\n",
       "      <td>...</td>\n",
       "      <td>...</td>\n",
       "      <td>...</td>\n",
       "    </tr>\n",
       "    <tr>\n",
       "      <th>927</th>\n",
       "      <td>2017-01-17 18:32:30.832981</td>\n",
       "      <td>762498</td>\n",
       "      <td>control</td>\n",
       "      <td>click</td>\n",
       "      <td>2017-01-17 18:32:04.305072</td>\n",
       "      <td>control</td>\n",
       "      <td>view</td>\n",
       "    </tr>\n",
       "    <tr>\n",
       "      <th>928</th>\n",
       "      <td>2017-01-17 22:40:54.304413</td>\n",
       "      <td>591686</td>\n",
       "      <td>control</td>\n",
       "      <td>click</td>\n",
       "      <td>2017-01-17 22:39:20.924266</td>\n",
       "      <td>control</td>\n",
       "      <td>view</td>\n",
       "    </tr>\n",
       "    <tr>\n",
       "      <th>929</th>\n",
       "      <td>2017-01-17 23:20:35.483601</td>\n",
       "      <td>451198</td>\n",
       "      <td>control</td>\n",
       "      <td>click</td>\n",
       "      <td>2017-01-17 23:19:39.649126</td>\n",
       "      <td>control</td>\n",
       "      <td>view</td>\n",
       "    </tr>\n",
       "    <tr>\n",
       "      <th>930</th>\n",
       "      <td>2017-01-17 23:47:58.209653</td>\n",
       "      <td>252195</td>\n",
       "      <td>control</td>\n",
       "      <td>click</td>\n",
       "      <td>2017-01-17 23:46:19.329053</td>\n",
       "      <td>control</td>\n",
       "      <td>view</td>\n",
       "    </tr>\n",
       "    <tr>\n",
       "      <th>931</th>\n",
       "      <td>2017-01-18 09:09:17.363917</td>\n",
       "      <td>795585</td>\n",
       "      <td>control</td>\n",
       "      <td>click</td>\n",
       "      <td>2017-01-18 09:07:37.661143</td>\n",
       "      <td>control</td>\n",
       "      <td>view</td>\n",
       "    </tr>\n",
       "  </tbody>\n",
       "</table>\n",
       "<p>932 rows × 7 columns</p>\n",
       "</div>"
      ],
      "text/plain": [
       "               timestamp_click      id group_click action_click  \\\n",
       "0   2016-09-25 02:53:25.459874  398892     control        click   \n",
       "1   2016-09-25 05:19:15.810727  544571     control        click   \n",
       "2   2016-09-25 08:25:32.821891  194950     control        click   \n",
       "3   2016-09-25 09:45:12.114972  894454     control        click   \n",
       "4   2016-09-25 10:38:53.299877  639852     control        click   \n",
       "..                         ...     ...         ...          ...   \n",
       "927 2017-01-17 18:32:30.832981  762498     control        click   \n",
       "928 2017-01-17 22:40:54.304413  591686     control        click   \n",
       "929 2017-01-17 23:20:35.483601  451198     control        click   \n",
       "930 2017-01-17 23:47:58.209653  252195     control        click   \n",
       "931 2017-01-18 09:09:17.363917  795585     control        click   \n",
       "\n",
       "                timestamp_view group_view action_view  \n",
       "0   2016-09-25 02:52:43.844199    control        view  \n",
       "1   2016-09-25 05:18:58.565357    control        view  \n",
       "2   2016-09-25 08:24:31.192802    control        view  \n",
       "3   2016-09-25 09:43:32.734737    control        view  \n",
       "4   2016-09-25 10:37:38.286145    control        view  \n",
       "..                         ...        ...         ...  \n",
       "927 2017-01-17 18:32:04.305072    control        view  \n",
       "928 2017-01-17 22:39:20.924266    control        view  \n",
       "929 2017-01-17 23:19:39.649126    control        view  \n",
       "930 2017-01-17 23:46:19.329053    control        view  \n",
       "931 2017-01-18 09:07:37.661143    control        view  \n",
       "\n",
       "[932 rows x 7 columns]"
      ]
     },
     "execution_count": 16,
     "metadata": {},
     "output_type": "execute_result"
    }
   ],
   "source": [
    "control_click_df.merge(control_view_df, on='id', suffixes=('_click', '_view'), how='left')"
   ]
  },
  {
   "cell_type": "code",
   "execution_count": 17,
   "metadata": {},
   "outputs": [
    {
     "name": "stdout",
     "output_type": "stream",
     "text": [
      "<class 'pandas.core.frame.DataFrame'>\n",
      "Int64Index: 932 entries, 0 to 931\n",
      "Data columns (total 7 columns):\n",
      " #   Column           Non-Null Count  Dtype         \n",
      "---  ------           --------------  -----         \n",
      " 0   timestamp_click  932 non-null    datetime64[ns]\n",
      " 1   id               932 non-null    int64         \n",
      " 2   group_click      932 non-null    object        \n",
      " 3   action_click     932 non-null    object        \n",
      " 4   timestamp_view   932 non-null    datetime64[ns]\n",
      " 5   group_view       932 non-null    object        \n",
      " 6   action_view      932 non-null    object        \n",
      "dtypes: datetime64[ns](2), int64(1), object(4)\n",
      "memory usage: 58.2+ KB\n"
     ]
    }
   ],
   "source": [
    "control_click_df.merge(control_view_df, on='id', suffixes=('_click', '_view'), how='left').info()"
   ]
  },
  {
   "cell_type": "code",
   "execution_count": 18,
   "metadata": {},
   "outputs": [
    {
     "data": {
      "text/plain": [
       "2996"
      ]
     },
     "execution_count": 18,
     "metadata": {},
     "output_type": "execute_result"
    }
   ],
   "source": [
    "experiment_view_members = len(experiment_df[experiment_df.action == 'view'])# experiment_view_members is the number of members of the experiment group\n",
    "experiment_view_members"
   ]
  },
  {
   "cell_type": "code",
   "execution_count": 19,
   "metadata": {},
   "outputs": [
    {
     "data": {
      "text/plain": [
       "928"
      ]
     },
     "execution_count": 19,
     "metadata": {},
     "output_type": "execute_result"
    }
   ],
   "source": [
    "experiment_click_members = len(experiment_df[experiment_df.action == 'click'])\n",
    "experiment_click_members"
   ]
  },
  {
   "cell_type": "code",
   "execution_count": 20,
   "metadata": {},
   "outputs": [
    {
     "data": {
      "text/plain": [
       "3332"
      ]
     },
     "execution_count": 20,
     "metadata": {},
     "output_type": "execute_result"
    }
   ],
   "source": [
    "control_view_members = len(control_df[control_df.action == 'view'])#control_view_members is the number of members of the control group\n",
    "control_view_members"
   ]
  },
  {
   "cell_type": "code",
   "execution_count": 21,
   "metadata": {},
   "outputs": [
    {
     "data": {
      "text/plain": [
       "932"
      ]
     },
     "execution_count": 21,
     "metadata": {},
     "output_type": "execute_result"
    }
   ],
   "source": [
    "control_click_members  = len(control_df[control_df.action == 'click'])\n",
    "control_click_members  "
   ]
  },
  {
   "cell_type": "code",
   "execution_count": 22,
   "metadata": {},
   "outputs": [
    {
     "data": {
      "text/plain": [
       "0.3097463284379172"
      ]
     },
     "execution_count": 22,
     "metadata": {},
     "output_type": "execute_result"
    }
   ],
   "source": [
    "probability_experiment = experiment_click_members /experiment_view_members\n",
    "probability_experiment"
   ]
  },
  {
   "cell_type": "code",
   "execution_count": 23,
   "metadata": {},
   "outputs": [
    {
     "data": {
      "text/plain": [
       "0.2797118847539016"
      ]
     },
     "execution_count": 23,
     "metadata": {},
     "output_type": "execute_result"
    }
   ],
   "source": [
    "probability_control = control_click_members /control_view_members\n",
    "probability_control "
   ]
  },
  {
   "cell_type": "code",
   "execution_count": 24,
   "metadata": {},
   "outputs": [],
   "source": [
    "# about 31% clicked in experiment group and 28% in control group."
   ]
  },
  {
   "cell_type": "markdown",
   "metadata": {},
   "source": [
    "## Conduct a Statistical Test\n",
    "\n",
    "Conduct a statistical test to determine whether the experimental homepage was more effective than that of the control group."
   ]
  },
  {
   "cell_type": "code",
   "execution_count": 25,
   "metadata": {},
   "outputs": [],
   "source": [
    "#Your code here\n",
    "import numpy as np\n",
    "import statsmodels.api as sm"
   ]
  },
  {
   "cell_type": "code",
   "execution_count": 26,
   "metadata": {},
   "outputs": [
    {
     "name": "stdout",
     "output_type": "stream",
     "text": [
      "0.004415037788297902\n"
     ]
    }
   ],
   "source": [
    "zscore, pval = sm.stats.proportions_ztest([control_click_members , experiment_click_members ], [control_view_members,experiment_view_members ], alternative='smaller')\n",
    "print(pval)"
   ]
  },
  {
   "cell_type": "code",
   "execution_count": 27,
   "metadata": {},
   "outputs": [],
   "source": [
    "#since our pval is smaller than 0.05,we can reject the null hypothesis that control group and experiment group had the same effectiveness"
   ]
  },
  {
   "cell_type": "markdown",
   "metadata": {},
   "source": [
    "## Verifying Results\n",
    "\n",
    "One sensible formulation of the data to answer the hypothesis test above would be to create a binary variable representing each individual in the experiment and control group. This binary variable would represent whether or not that individual clicked on the homepage; 1 for they did and 0 if they did not. \n",
    "\n",
    "The variance for the number of successes in a sample of a binomial variable with n observations is given by:\n",
    "\n",
    "## $n\\bullet p (1-p)$\n",
    "\n",
    "Given this, perform 3 steps to verify the results of your statistical test:\n",
    "1. Calculate the expected number of clicks for the experiment group, if it had the same click-through rate as that of the control group. \n",
    "2. Calculate the number of standard deviations that the actual number of clicks was from this estimate. \n",
    "3. Finally, calculate a p-value using the normal distribution based on this z-score."
   ]
  },
  {
   "cell_type": "markdown",
   "metadata": {},
   "source": [
    "### Step 1:\n",
    "Calculate the expected number of clicks for the experiment group, if it had the same click-through rate as that of the control group. "
   ]
  },
  {
   "cell_type": "code",
   "execution_count": 29,
   "metadata": {},
   "outputs": [
    {
     "data": {
      "text/plain": [
       "838.0168067226891"
      ]
     },
     "execution_count": 29,
     "metadata": {},
     "output_type": "execute_result"
    }
   ],
   "source": [
    "#Your code here\n",
    "control_click_rate = probability_control # calculated above\n",
    "expected_experiment_clicks = control_click_rate * experiment_view_members\n",
    "expected_experiment_clicks"
   ]
  },
  {
   "cell_type": "markdown",
   "metadata": {},
   "source": [
    "### Step 2:\n",
    "Calculate the number of standard deviations that the actual number of clicks was from this estimate."
   ]
  },
  {
   "cell_type": "code",
   "execution_count": 30,
   "metadata": {},
   "outputs": [
    {
     "name": "stdout",
     "output_type": "stream",
     "text": [
      "the difference in clicks was 89.98319327731087\n",
      "the control standard deviation is 24.568547907005815\n",
      "number of standard deviation away is 3.6625360854823588\n"
     ]
    }
   ],
   "source": [
    "#Your code here\n",
    "actual_expected_clicks = experiment_click_members\n",
    "difference_in_clicks = actual_expected_clicks - expected_experiment_clicks\n",
    "print(f'the difference in clicks was {difference_in_clicks}')\n",
    "variance_control = experiment_view_members * control_click_rate * (1 - control_click_rate)\n",
    "standard_deviation = np.sqrt(variance_control)\n",
    "print(f'the control standard deviation is {standard_deviation}')\n",
    "standard_deviation_away = difference_in_clicks / standard_deviation\n",
    "print(f'number of standard deviation away is {standard_deviation_away}')"
   ]
  },
  {
   "cell_type": "markdown",
   "metadata": {},
   "source": [
    "### Step 3: \n",
    "Finally, calculate a p-value using the normal distribution based on this z-score."
   ]
  },
  {
   "cell_type": "code",
   "execution_count": 31,
   "metadata": {},
   "outputs": [
    {
     "data": {
      "text/plain": [
       "0.00012486528006951198"
      ]
     },
     "execution_count": 31,
     "metadata": {},
     "output_type": "execute_result"
    }
   ],
   "source": [
    "#Your code here\n",
    "import scipy.stats as stats\n",
    "p_value = stats.norm.sf(standard_deviation_away)\n",
    "p_value\n"
   ]
  },
  {
   "cell_type": "markdown",
   "metadata": {},
   "source": [
    "### Analysis:\n",
    "\n",
    "Does this result roughly match that of the previous statistical test?\n",
    "\n",
    "> Comment: **Your analysis here**"
   ]
  },
  {
   "cell_type": "code",
   "execution_count": 32,
   "metadata": {},
   "outputs": [
    {
     "name": "stdout",
     "output_type": "stream",
     "text": [
      "The difference in p_values is 0.00429017250822839\n"
     ]
    }
   ],
   "source": [
    "print(f'The difference in p_values is {pval - p_value}')"
   ]
  },
  {
   "cell_type": "code",
   "execution_count": 33,
   "metadata": {},
   "outputs": [],
   "source": [
    "#Even though the difference is considerable, both would reject the null hypothesis."
   ]
  },
  {
   "cell_type": "markdown",
   "metadata": {},
   "source": [
    "## Summary\n",
    "\n",
    "In this lab, you continued to get more practice designing and conducting AB tests. This required additional work preprocessing and formulating the initial problem in a suitable manner. Additionally, you also saw how to verify results, strengthening your knowledge of binomial variables, and reviewing initial statistical concepts of the central limit theorem, standard deviation, z-scores, and their accompanying p-values."
   ]
  }
 ],
 "metadata": {
  "kernelspec": {
   "display_name": "Python 3",
   "language": "python",
   "name": "python3"
  },
  "language_info": {
   "codemirror_mode": {
    "name": "ipython",
    "version": 3
   },
   "file_extension": ".py",
   "mimetype": "text/x-python",
   "name": "python",
   "nbconvert_exporter": "python",
   "pygments_lexer": "ipython3",
   "version": "3.8.5"
  }
 },
 "nbformat": 4,
 "nbformat_minor": 2
}
